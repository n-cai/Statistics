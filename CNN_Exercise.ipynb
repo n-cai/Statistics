{
  "nbformat": 4,
  "nbformat_minor": 0,
  "metadata": {
    "colab": {
      "provenance": [],
      "include_colab_link": true
    },
    "kernelspec": {
      "name": "python3",
      "display_name": "Python 3"
    },
    "language_info": {
      "name": "python"
    }
  },
  "cells": [
    {
      "cell_type": "markdown",
      "metadata": {
        "id": "view-in-github",
        "colab_type": "text"
      },
      "source": [
        "<a href=\"https://colab.research.google.com/github/n-cai/Statistics/blob/main/CNN_Exercise.ipynb\" target=\"_parent\"><img src=\"https://colab.research.google.com/assets/colab-badge.svg\" alt=\"Open In Colab\"/></a>"
      ]
    },
    {
      "cell_type": "markdown",
      "source": [
        "### **Convolutional Neural Networks (CNN) for MNIST Dataset**"
      ],
      "metadata": {
        "id": "p2N1rWNRm9Zn"
      }
    },
    {
      "cell_type": "code",
      "source": [
        "from google.colab import drive\n",
        "drive.mount('/content/drive')"
      ],
      "metadata": {
        "id": "RsJj56idjjP0"
      },
      "execution_count": null,
      "outputs": []
    },
    {
      "cell_type": "markdown",
      "source": [
        "First, import the required libraries:"
      ],
      "metadata": {
        "id": "lIQWrDef8H82"
      }
    },
    {
      "cell_type": "code",
      "source": [
        "import tensorflow as tf\n",
        "print(tf.__version__)\n",
        "import time\n",
        "import numpy as np\n",
        "import pandas as pd\n",
        "from numpy import unique, argmax\n",
        "from keras.utils import np_utils\n",
        "from tensorflow.keras.datasets.mnist import load_data\n",
        "from tensorflow.keras import Sequential\n",
        "from tensorflow.keras.layers import Conv2D\n",
        "from tensorflow.keras.layers import MaxPool2D\n",
        "from tensorflow.keras.layers import Dense\n",
        "from tensorflow.keras.layers import Flatten\n",
        "from tensorflow.keras.utils import plot_model\n",
        "import matplotlib.pyplot as plt\n",
        "from tensorflow.keras.datasets import mnist"
      ],
      "metadata": {
        "id": "50EyBuiX8Nkl",
        "colab": {
          "base_uri": "https://localhost:8080/"
        },
        "outputId": "26c05488-92d2-44be-a7fa-179880fe4e84"
      },
      "execution_count": null,
      "outputs": [
        {
          "output_type": "stream",
          "name": "stdout",
          "text": [
            "2.8.0\n"
          ]
        }
      ]
    },
    {
      "cell_type": "markdown",
      "source": [
        "Then, We load the MNIST Dataset using the Keras library and split it into training and testing sets."
      ],
      "metadata": {
        "id": "2oZkYPRX8zbG"
      }
    },
    {
      "cell_type": "code",
      "source": [
        "#loading the MNIST Dataset\n",
        "\n",
        "(train_x, train_y), (test_x, test_y) = mnist.load_data()\n",
        "\n",
        "num_classes = len(np.unique(train_y))"
      ],
      "metadata": {
        "id": "q35gRDad84h_",
        "colab": {
          "base_uri": "https://localhost:8080/"
        },
        "outputId": "0c2a55b6-3b6d-4614-8d4a-5a41d089c311"
      },
      "execution_count": null,
      "outputs": [
        {
          "output_type": "stream",
          "name": "stdout",
          "text": [
            "Downloading data from https://storage.googleapis.com/tensorflow/tf-keras-datasets/mnist.npz\n",
            "11493376/11490434 [==============================] - 0s 0us/step\n",
            "11501568/11490434 [==============================] - 0s 0us/step\n"
          ]
        }
      ]
    },
    {
      "cell_type": "markdown",
      "source": [
        "Now, let's print the dimensions of the dataset:"
      ],
      "metadata": {
        "id": "aa0YxOV29DmG"
      }
    },
    {
      "cell_type": "code",
      "source": [
        "#printing the shapes\n",
        "\n",
        "print(train_x.shape, train_y.shape)\n",
        "print(test_x.shape , test_y.shape)"
      ],
      "metadata": {
        "id": "6EAxFr3r9GZ-",
        "colab": {
          "base_uri": "https://localhost:8080/"
        },
        "outputId": "265cd505-2be9-463b-e75c-e90fbb76fe11"
      },
      "execution_count": null,
      "outputs": [
        {
          "output_type": "stream",
          "name": "stdout",
          "text": [
            "(60000, 28, 28) (60000,)\n",
            "(10000, 28, 28) (10000,)\n"
          ]
        }
      ]
    },
    {
      "cell_type": "markdown",
      "source": [
        "Note that we have 60,000 images in the train set and 10,000 images in the test set. Now, we reshape the datasets since the images are greyscaled:"
      ],
      "metadata": {
        "id": "CtSCvftj9Nxu"
      }
    },
    {
      "cell_type": "code",
      "source": [
        "#reshaping train and test sets:\n",
        "\n",
        "train_x = train_x.reshape((train_x.shape[0], train_x.shape[1], train_x.shape[2], 1))\n",
        "test_x = test_x .reshape((test_x.shape[0], test_x.shape[1], test_x.shape[2], 1))"
      ],
      "metadata": {
        "id": "-PWWQVE29ZAn"
      },
      "execution_count": null,
      "outputs": []
    },
    {
      "cell_type": "markdown",
      "source": [
        "Now, let's print the new dimensions:"
      ],
      "metadata": {
        "id": "NsspX-7Q9lTG"
      }
    },
    {
      "cell_type": "code",
      "source": [
        "#printing the shapes\n",
        "\n",
        "print(train_x.shape, train_y.shape)\n",
        "print(test_x.shape , test_y.shape)"
      ],
      "metadata": {
        "id": "UKNQJVem9nim",
        "colab": {
          "base_uri": "https://localhost:8080/"
        },
        "outputId": "6453bead-9874-4c59-8304-bba1dd92ce9d"
      },
      "execution_count": null,
      "outputs": [
        {
          "output_type": "stream",
          "name": "stdout",
          "text": [
            "(60000, 28, 28, 1) (60000,)\n",
            "(10000, 28, 28, 1) (10000,)\n"
          ]
        }
      ]
    },
    {
      "cell_type": "markdown",
      "source": [
        "Now, we perform normalization for scaling the image pixels. This will help improve the model's performance because the value will range from 0 to 1 instead of 0 to 255.  "
      ],
      "metadata": {
        "id": "10cbVE2h96eP"
      }
    },
    {
      "cell_type": "code",
      "source": [
        "#normalizing the pixel values of images\n",
        "\n",
        "train_x = train_x.astype('float32')/255.0\n",
        "test_x = test_x.astype('float32')/255.0\n",
        "\n",
        "#convert class labels to binary class labels\n",
        "\n",
        "train_labels = np_utils.to_categorical(train_y, num_classes)\n",
        "test_labels = np_utils.to_categorical(test_y, num_classes)"
      ],
      "metadata": {
        "id": "lLqvbpQc98Ou"
      },
      "execution_count": null,
      "outputs": []
    },
    {
      "cell_type": "markdown",
      "source": [
        "Now, let's plot the first 20 images for better visualization:"
      ],
      "metadata": {
        "id": "WZHnBJY9-DNG"
      }
    },
    {
      "cell_type": "code",
      "source": [
        "#plotting images of dataset\n",
        "\n",
        "fig = plt.figure(figsize = (10,3))\n",
        "\n",
        "for i in range(20):\n",
        "    ax= fig.add_subplot(2, 10, i+1, xticks=[], yticks=[])\n",
        "    ax.imshow(np.squeeze(train_x[i]), cmap='gray')\n",
        "    ax.set_title(train_y[i])"
      ],
      "metadata": {
        "id": "AkSR7F2g-FlO",
        "colab": {
          "base_uri": "https://localhost:8080/",
          "height": 187
        },
        "outputId": "adeabcff-d6c3-4b1b-8866-c3a329a60406"
      },
      "execution_count": null,
      "outputs": [
        {
          "output_type": "display_data",
          "data": {
            "text/plain": [
              "<Figure size 720x216 with 20 Axes>"
            ],
            "image/png": "[encoded data removed]"
          },
          "metadata": {}
        }
      ]
    },
    {
      "cell_type": "markdown",
      "source": [
        "Let's try to print the shape of a single image:"
      ],
      "metadata": {
        "id": "ZoUw-awI-PLn"
      }
    },
    {
      "cell_type": "code",
      "source": [
        "shape = train_x.shape[1:]\n",
        "\n",
        "shape"
      ],
      "metadata": {
        "id": "Vxd_SgXx-Rbu",
        "colab": {
          "base_uri": "https://localhost:8080/"
        },
        "outputId": "20e90139-b9b8-4a88-b328-dfb486dcb3cf"
      },
      "execution_count": null,
      "outputs": [
        {
          "output_type": "execute_result",
          "data": {
            "text/plain": [
              "(28, 28, 1)"
            ]
          },
          "metadata": {},
          "execution_count": 10
        }
      ]
    },
    {
      "cell_type": "markdown",
      "source": [
        "Here, 1 indicates the channel of the image."
      ],
      "metadata": {
        "id": "kq2GTZbD-cj-"
      }
    },
    {
      "cell_type": "markdown",
      "source": [
        "Function to plot model accuracy and loss:"
      ],
      "metadata": {
        "id": "ulmoVF_n5Brs"
      }
    },
    {
      "cell_type": "code",
      "source": [
        "def plot_model_history(model_history):\n",
        "    fig, axs = plt.subplots(1,2,figsize=(15,5))\n",
        "    # summarize history for accuracy\n",
        "    axs[0].plot(range(1,len(model_history.history['accuracy'])+1),model_history.history['accuracy'])\n",
        "    axs[0].plot(range(1,len(model_history.history['val_accuracy'])+1),model_history.history['val_accuracy'])\n",
        "    axs[0].set_title('Model Accuracy')\n",
        "    axs[0].set_ylabel('Accuracy')\n",
        "    axs[0].set_xlabel('Epoch')\n",
        "    axs[0].set_xticks(np.arange(1,len(model_history.history['accuracy'])+1),len(model_history.history['accuracy'])/10)\n",
        "    axs[0].legend(['train', 'val'], loc='best')\n",
        "    # summarize history for loss\n",
        "    axs[1].plot(range(1,len(model_history.history['loss'])+1),model_history.history['loss'])\n",
        "    axs[1].plot(range(1,len(model_history.history['val_loss'])+1),model_history.history['val_loss'])\n",
        "    axs[1].set_title('Model Loss')\n",
        "    axs[1].set_ylabel('Loss')\n",
        "    axs[1].set_xlabel('Epoch')\n",
        "    axs[1].set_xticks(np.arange(1,len(model_history.history['loss'])+1),len(model_history.history['loss'])/10)\n",
        "    axs[1].legend(['train', 'val'], loc='best')\n",
        "    plt.show()"
      ],
      "metadata": {
        "id": "dABHOc0Q5IhD"
      },
      "execution_count": null,
      "outputs": []
    },
    {
      "cell_type": "markdown",
      "source": [
        "### **Model 1:**"
      ],
      "metadata": {
        "id": "iqh7wePknMCM"
      }
    },
    {
      "cell_type": "markdown",
      "source": [
        "Now, let's build a simple CNN model:"
      ],
      "metadata": {
        "id": "8y8KSzUn-lRc"
      }
    },
    {
      "cell_type": "code",
      "source": [
        "#A simple CNN Model\n",
        "\n",
        "model1 = Sequential()\n",
        "\n",
        "#adding convolutional layer\n",
        "\n",
        "model1.add(Conv2D(32, (3,3), activation='relu', input_shape= shape))\n",
        "\n",
        "model1.add(MaxPool2D((2,2)))\n",
        "\n",
        "model1.add(Flatten())\n",
        "\n",
        "model1.add(Dense(10, activation='softmax'))"
      ],
      "metadata": {
        "id": "rJT09jFR-s0A"
      },
      "execution_count": null,
      "outputs": []
    },
    {
      "cell_type": "markdown",
      "source": [
        "Let's print a summary of our model for better understanding:"
      ],
      "metadata": {
        "id": "W9Qizu8c_eZJ"
      }
    },
    {
      "cell_type": "code",
      "source": [
        "model1.summary()"
      ],
      "metadata": {
        "id": "YtkzN5gr_hH6",
        "colab": {
          "base_uri": "https://localhost:8080/"
        },
        "outputId": "9cda0651-bcd9-4547-ebe5-8c187a14b75b"
      },
      "execution_count": null,
      "outputs": [
        {
          "output_type": "stream",
          "name": "stdout",
          "text": [
            "Model: \"sequential\"\n",
            "_________________________________________________________________\n",
            " Layer (type)                Output Shape              Param #   \n",
            "=================================================================\n",
            " conv2d (Conv2D)             (None, 26, 26, 32)        320       \n",
            "                                                                 \n",
            " max_pooling2d (MaxPooling2D  (None, 13, 13, 32)       0         \n",
            " )                                                               \n",
            "                                                                 \n",
            " flatten (Flatten)           (None, 5408)              0         \n",
            "                                                                 \n",
            " dense (Dense)               (None, 10)                54090     \n",
            "                                                                 \n",
            "=================================================================\n",
            "Total params: 54,410\n",
            "Trainable params: 54,410\n",
            "Non-trainable params: 0\n",
            "_________________________________________________________________\n"
          ]
        }
      ]
    },
    {
      "cell_type": "markdown",
      "source": [
        "Now let's compile the model:"
      ],
      "metadata": {
        "id": "Gzyspo73_vPC"
      }
    },
    {
      "cell_type": "code",
      "source": [
        "#compiling model\n",
        "\n",
        "model1.compile(optimizer=tf.keras.optimizers.Adam(learning_rate=1e-3), loss = 'sparse_categorical_crossentropy', metrics= ['accuracy'] )"
      ],
      "metadata": {
        "id": "4NvCoOiQ_yZh"
      },
      "execution_count": null,
      "outputs": []
    },
    {
      "cell_type": "markdown",
      "source": [
        "And then train the model:"
      ],
      "metadata": {
        "id": "-3NhwNX7fcIr"
      }
    },
    {
      "cell_type": "code",
      "source": [
        "#training the model:\n",
        "\n",
        "start = time.time()\n",
        "\n",
        "x1 = model1.fit(train_x, train_y, epochs=50, batch_size = 64, validation_split=0.2)\n",
        "\n",
        "end = time.time()"
      ],
      "metadata": {
        "id": "BHmaZrx7ffqf",
        "colab": {
          "base_uri": "https://localhost:8080/"
        },
        "outputId": "0f8f8e59-d29c-4cb5-e40c-642276a177fc"
      },
      "execution_count": null,
      "outputs": [
        {
          "output_type": "stream",
          "name": "stdout",
          "text": [
            "Epoch 1/50\n",
            "750/750 [==============================] - 22s 29ms/step - loss: 0.3120 - accuracy: 0.9122 - val_loss: 0.1396 - val_accuracy: 0.9629\n",
            "Epoch 2/50\n",
            "750/750 [==============================] - 21s 28ms/step - loss: 0.1164 - accuracy: 0.9666 - val_loss: 0.1039 - val_accuracy: 0.9695\n",
            "Epoch 3/50\n",
            "750/750 [==============================] - 21s 28ms/step - loss: 0.0830 - accuracy: 0.9761 - val_loss: 0.0889 - val_accuracy: 0.9736\n",
            "Epoch 4/50\n",
            "750/750 [==============================] - 21s 28ms/step - loss: 0.0676 - accuracy: 0.9799 - val_loss: 0.0730 - val_accuracy: 0.9796\n",
            "Epoch 5/50\n",
            "750/750 [==============================] - 21s 28ms/step - loss: 0.0579 - accuracy: 0.9831 - val_loss: 0.0716 - val_accuracy: 0.9808\n",
            "Epoch 6/50\n",
            "750/750 [==============================] - 21s 28ms/step - loss: 0.0510 - accuracy: 0.9849 - val_loss: 0.0730 - val_accuracy: 0.9788\n",
            "Epoch 7/50\n",
            "750/750 [==============================] - 21s 28ms/step - loss: 0.0452 - accuracy: 0.9864 - val_loss: 0.0677 - val_accuracy: 0.9804\n",
            "Epoch 8/50\n",
            "750/750 [==============================] - 21s 28ms/step - loss: 0.0392 - accuracy: 0.9882 - val_loss: 0.0659 - val_accuracy: 0.9812\n",
            "Epoch 9/50\n",
            "750/750 [==============================] - 21s 28ms/step - loss: 0.0359 - accuracy: 0.9891 - val_loss: 0.0637 - val_accuracy: 0.9817\n",
            "Epoch 10/50\n",
            "750/750 [==============================] - 21s 28ms/step - loss: 0.0310 - accuracy: 0.9908 - val_loss: 0.0640 - val_accuracy: 0.9808\n",
            "Epoch 11/50\n",
            "750/750 [==============================] - 21s 29ms/step - loss: 0.0290 - accuracy: 0.9913 - val_loss: 0.0639 - val_accuracy: 0.9821\n",
            "Epoch 12/50\n",
            "750/750 [==============================] - 21s 28ms/step - loss: 0.0257 - accuracy: 0.9924 - val_loss: 0.0670 - val_accuracy: 0.9816\n",
            "Epoch 13/50\n",
            "750/750 [==============================] - 21s 29ms/step - loss: 0.0227 - accuracy: 0.9934 - val_loss: 0.0664 - val_accuracy: 0.9808\n",
            "Epoch 14/50\n",
            "750/750 [==============================] - 21s 28ms/step - loss: 0.0210 - accuracy: 0.9939 - val_loss: 0.0677 - val_accuracy: 0.9818\n",
            "Epoch 15/50\n",
            "750/750 [==============================] - 21s 28ms/step - loss: 0.0179 - accuracy: 0.9948 - val_loss: 0.0643 - val_accuracy: 0.9825\n",
            "Epoch 16/50\n",
            "750/750 [==============================] - 21s 28ms/step - loss: 0.0156 - accuracy: 0.9955 - val_loss: 0.0705 - val_accuracy: 0.9808\n",
            "Epoch 17/50\n",
            "750/750 [==============================] - 21s 28ms/step - loss: 0.0144 - accuracy: 0.9959 - val_loss: 0.0709 - val_accuracy: 0.9820\n",
            "Epoch 18/50\n",
            "750/750 [==============================] - 21s 28ms/step - loss: 0.0126 - accuracy: 0.9964 - val_loss: 0.0751 - val_accuracy: 0.9812\n",
            "Epoch 19/50\n",
            "750/750 [==============================] - 21s 28ms/step - loss: 0.0112 - accuracy: 0.9968 - val_loss: 0.0834 - val_accuracy: 0.9780\n",
            "Epoch 20/50\n",
            "750/750 [==============================] - 21s 27ms/step - loss: 0.0108 - accuracy: 0.9972 - val_loss: 0.0797 - val_accuracy: 0.9798\n",
            "Epoch 21/50\n",
            "750/750 [==============================] - 21s 28ms/step - loss: 0.0093 - accuracy: 0.9973 - val_loss: 0.0777 - val_accuracy: 0.9818\n",
            "Epoch 22/50\n",
            "750/750 [==============================] - 21s 28ms/step - loss: 0.0074 - accuracy: 0.9983 - val_loss: 0.0767 - val_accuracy: 0.9816\n",
            "Epoch 23/50\n",
            "750/750 [==============================] - 21s 28ms/step - loss: 0.0074 - accuracy: 0.9980 - val_loss: 0.0775 - val_accuracy: 0.9818\n",
            "Epoch 24/50\n",
            "750/750 [==============================] - 20s 27ms/step - loss: 0.0057 - accuracy: 0.9988 - val_loss: 0.0787 - val_accuracy: 0.9811\n",
            "Epoch 25/50\n",
            "750/750 [==============================] - 21s 27ms/step - loss: 0.0056 - accuracy: 0.9987 - val_loss: 0.0850 - val_accuracy: 0.9812\n",
            "Epoch 26/50\n",
            "750/750 [==============================] - 21s 27ms/step - loss: 0.0051 - accuracy: 0.9987 - val_loss: 0.0820 - val_accuracy: 0.9805\n",
            "Epoch 27/50\n",
            "750/750 [==============================] - 21s 28ms/step - loss: 0.0050 - accuracy: 0.9988 - val_loss: 0.0895 - val_accuracy: 0.9799\n",
            "Epoch 28/50\n",
            "750/750 [==============================] - 21s 28ms/step - loss: 0.0040 - accuracy: 0.9993 - val_loss: 0.0851 - val_accuracy: 0.9820\n",
            "Epoch 29/50\n",
            "750/750 [==============================] - 21s 28ms/step - loss: 0.0033 - accuracy: 0.9994 - val_loss: 0.0902 - val_accuracy: 0.9811\n",
            "Epoch 30/50\n",
            "750/750 [==============================] - 21s 27ms/step - loss: 0.0050 - accuracy: 0.9987 - val_loss: 0.0908 - val_accuracy: 0.9796\n",
            "Epoch 31/50\n",
            "750/750 [==============================] - 21s 27ms/step - loss: 0.0027 - accuracy: 0.9995 - val_loss: 0.1056 - val_accuracy: 0.9782\n",
            "Epoch 32/50\n",
            "750/750 [==============================] - 20s 27ms/step - loss: 0.0032 - accuracy: 0.9993 - val_loss: 0.0939 - val_accuracy: 0.9815\n",
            "Epoch 33/50\n",
            "750/750 [==============================] - 21s 28ms/step - loss: 0.0027 - accuracy: 0.9994 - val_loss: 0.0967 - val_accuracy: 0.9807\n",
            "Epoch 34/50\n",
            "750/750 [==============================] - 21s 28ms/step - loss: 0.0036 - accuracy: 0.9989 - val_loss: 0.1125 - val_accuracy: 0.9778\n",
            "Epoch 35/50\n",
            "750/750 [==============================] - 20s 27ms/step - loss: 0.0023 - accuracy: 0.9997 - val_loss: 0.0959 - val_accuracy: 0.9818\n",
            "Epoch 36/50\n",
            "750/750 [==============================] - 20s 27ms/step - loss: 0.0013 - accuracy: 0.9999 - val_loss: 0.0950 - val_accuracy: 0.9818\n",
            "Epoch 37/50\n",
            "750/750 [==============================] - 20s 27ms/step - loss: 9.7333e-04 - accuracy: 1.0000 - val_loss: 0.1127 - val_accuracy: 0.9794\n",
            "Epoch 38/50\n",
            "750/750 [==============================] - 21s 27ms/step - loss: 0.0046 - accuracy: 0.9986 - val_loss: 0.0999 - val_accuracy: 0.9803\n",
            "Epoch 39/50\n",
            "750/750 [==============================] - 21s 28ms/step - loss: 0.0018 - accuracy: 0.9997 - val_loss: 0.0984 - val_accuracy: 0.9818\n",
            "Epoch 40/50\n",
            "750/750 [==============================] - 21s 28ms/step - loss: 8.7814e-04 - accuracy: 0.9999 - val_loss: 0.1010 - val_accuracy: 0.9812\n",
            "Epoch 41/50\n",
            "750/750 [==============================] - 21s 28ms/step - loss: 5.9026e-04 - accuracy: 1.0000 - val_loss: 0.1001 - val_accuracy: 0.9821\n",
            "Epoch 42/50\n",
            "750/750 [==============================] - 21s 28ms/step - loss: 0.0045 - accuracy: 0.9987 - val_loss: 0.0989 - val_accuracy: 0.9818\n",
            "Epoch 43/50\n",
            "750/750 [==============================] - 21s 28ms/step - loss: 0.0011 - accuracy: 0.9999 - val_loss: 0.0981 - val_accuracy: 0.9823\n",
            "Epoch 44/50\n",
            "750/750 [==============================] - 21s 28ms/step - loss: 4.7910e-04 - accuracy: 1.0000 - val_loss: 0.0998 - val_accuracy: 0.9826\n",
            "Epoch 45/50\n",
            "750/750 [==============================] - 21s 27ms/step - loss: 3.0791e-04 - accuracy: 1.0000 - val_loss: 0.1020 - val_accuracy: 0.9821\n",
            "Epoch 46/50\n",
            "750/750 [==============================] - 21s 28ms/step - loss: 0.0021 - accuracy: 0.9993 - val_loss: 0.1243 - val_accuracy: 0.9795\n",
            "Epoch 47/50\n",
            "750/750 [==============================] - 21s 28ms/step - loss: 0.0021 - accuracy: 0.9996 - val_loss: 0.1081 - val_accuracy: 0.9820\n",
            "Epoch 48/50\n",
            "750/750 [==============================] - 21s 28ms/step - loss: 8.0254e-04 - accuracy: 0.9999 - val_loss: 0.1053 - val_accuracy: 0.9817\n",
            "Epoch 49/50\n",
            "750/750 [==============================] - 21s 28ms/step - loss: 3.5095e-04 - accuracy: 1.0000 - val_loss: 0.1109 - val_accuracy: 0.9809\n",
            "Epoch 50/50\n",
            "750/750 [==============================] - 21s 28ms/step - loss: 3.2257e-04 - accuracy: 1.0000 - val_loss: 0.1050 - val_accuracy: 0.9827\n"
          ]
        }
      ]
    },
    {
      "cell_type": "markdown",
      "source": [
        "Now, we plot the training performance:"
      ],
      "metadata": {
        "id": "4eWCuQp_L2LK"
      }
    },
    {
      "cell_type": "code",
      "source": [
        "#plot model history\n",
        "\n",
        "plot_model_history(x1)\n",
        "\n",
        "print(\"Model 1 took %0.2f seconds to train\"%(end - start))\n",
        "# compute test accuracy\n",
        "loss, accuracy= model1.evaluate(test_x, test_y)\n",
        "print(\"Accuracy on test data is: %0.2f\"%accuracy)"
      ],
      "metadata": {
        "id": "ls5tK1qsL-9-",
        "colab": {
          "base_uri": "https://localhost:8080/",
          "height": 474
        },
        "outputId": "2bec124a-2820-440e-d3b8-8f0d9d5720f8"
      },
      "execution_count": null,
      "outputs": [
        {
          "output_type": "stream",
          "name": "stderr",
          "text": [
            "/usr/local/lib/python3.7/dist-packages/ipykernel_launcher.py:9: MatplotlibDeprecationWarning: Passing the minor parameter of set_xticks() positionally is deprecated since Matplotlib 3.2; the parameter will become keyword-only two minor releases later.\n",
            "  if __name__ == '__main__':\n",
            "/usr/local/lib/python3.7/dist-packages/ipykernel_launcher.py:17: MatplotlibDeprecationWarning: Passing the minor parameter of set_xticks() positionally is deprecated since Matplotlib 3.2; the parameter will become keyword-only two minor releases later.\n"
          ]
        },
        {
          "output_type": "display_data",
          "data": {
            "text/plain": [
              "<Figure size 1080x360 with 2 Axes>"
            ],
            "image/png": "[encoded data removed]"
          },
          "metadata": {
            "needs_background": "light"
          }
        },
        {
          "output_type": "stream",
          "name": "stdout",
          "text": [
            "Model 1 took 1042.70 seconds to train\n",
            "313/313 [==============================] - 2s 7ms/step - loss: 0.0984 - accuracy: 0.9833\n",
            "Accuracy on test data is: 0.98\n"
          ]
        }
      ]
    },
    {
      "cell_type": "markdown",
      "source": [
        "**Question 1:** What is the issue with this and what should we do?"
      ],
      "metadata": {
        "id": "arDNl9GfsuDl"
      }
    },
    {
      "cell_type": "markdown",
      "source": [
        "### **Model 2**"
      ],
      "metadata": {
        "id": "2Qt1TL9dnTyM"
      }
    },
    {
      "cell_type": "markdown",
      "source": [
        "Increase the network depth by adding multiple layers:"
      ],
      "metadata": {
        "id": "wdLBBQZVhyL9"
      }
    },
    {
      "cell_type": "code",
      "source": [
        "# Define the model\n",
        "model2 = Sequential()\n",
        "\n",
        "model2.add(Conv2D(32, (3, 3), activation='relu', input_shape= shape))\n",
        "\n",
        "model2.add(Conv2D(32, (3, 3), activation='relu'))\n",
        "\n",
        "model2.add(MaxPool2D((2, 2)))\n",
        "\n",
        "model2.add(Flatten())\n",
        "\n",
        "model2.add(Dense(128, activation='relu'))\n",
        "\n",
        "model2.add(Dense(num_classes, activation='softmax'))"
      ],
      "metadata": {
        "id": "f6M8IORuiXLP"
      },
      "execution_count": null,
      "outputs": []
    },
    {
      "cell_type": "markdown",
      "source": [
        "Let's print a summary of our model for better understanding:"
      ],
      "metadata": {
        "id": "xsd0q9_Dn6Ke"
      }
    },
    {
      "cell_type": "code",
      "source": [
        "model2.summary()"
      ],
      "metadata": {
        "id": "hJBdzuH0n7Pk",
        "colab": {
          "base_uri": "https://localhost:8080/"
        },
        "outputId": "c22fbd5d-d85a-41d3-9f31-bac99833ecbd"
      },
      "execution_count": null,
      "outputs": [
        {
          "output_type": "stream",
          "name": "stdout",
          "text": [
            "Model: \"sequential_1\"\n",
            "_________________________________________________________________\n",
            " Layer (type)                Output Shape              Param #   \n",
            "=================================================================\n",
            " conv2d_1 (Conv2D)           (None, 26, 26, 32)        320       \n",
            "                                                                 \n",
            " conv2d_2 (Conv2D)           (None, 24, 24, 32)        9248      \n",
            "                                                                 \n",
            " max_pooling2d_1 (MaxPooling  (None, 12, 12, 32)       0         \n",
            " 2D)                                                             \n",
            "                                                                 \n",
            " flatten_1 (Flatten)         (None, 4608)              0         \n",
            "                                                                 \n",
            " dense_1 (Dense)             (None, 128)               589952    \n",
            "                                                                 \n",
            " dense_2 (Dense)             (None, 10)                1290      \n",
            "                                                                 \n",
            "=================================================================\n",
            "Total params: 600,810\n",
            "Trainable params: 600,810\n",
            "Non-trainable params: 0\n",
            "_________________________________________________________________\n"
          ]
        }
      ]
    },
    {
      "cell_type": "markdown",
      "source": [
        "Now let's compile the model and train it:"
      ],
      "metadata": {
        "id": "c90BwMALkr5j"
      }
    },
    {
      "cell_type": "code",
      "source": [
        "#compiling model\n",
        "\n",
        "model2.compile(optimizer=tf.keras.optimizers.Adam(learning_rate=1e-3), loss = 'sparse_categorical_crossentropy', metrics= ['accuracy'] )\n",
        "\n",
        "#training the model:\n",
        "\n",
        "start = time.time()\n",
        "\n",
        "x2 = model2.fit(train_x, train_y, epochs=20, batch_size = 128, validation_split=0.2)\n",
        "\n",
        "end = time.time()"
      ],
      "metadata": {
        "id": "rosKaFo1ks_j",
        "colab": {
          "base_uri": "https://localhost:8080/"
        },
        "outputId": "8b9d1b3e-8e2e-48d3-aabe-2050074b741c"
      },
      "execution_count": null,
      "outputs": [
        {
          "output_type": "stream",
          "name": "stdout",
          "text": [
            "Epoch 1/20\n",
            "375/375 [==============================] - 55s 145ms/step - loss: 0.2029 - accuracy: 0.9397 - val_loss: 0.0716 - val_accuracy: 0.9798\n",
            "Epoch 2/20\n",
            "375/375 [==============================] - 58s 155ms/step - loss: 0.0548 - accuracy: 0.9830 - val_loss: 0.0496 - val_accuracy: 0.9850\n",
            "Epoch 3/20\n",
            "375/375 [==============================] - 55s 147ms/step - loss: 0.0343 - accuracy: 0.9896 - val_loss: 0.0648 - val_accuracy: 0.9812\n",
            "Epoch 4/20\n",
            "375/375 [==============================] - 54s 144ms/step - loss: 0.0245 - accuracy: 0.9923 - val_loss: 0.0450 - val_accuracy: 0.9871\n",
            "Epoch 5/20\n",
            "375/375 [==============================] - 53s 142ms/step - loss: 0.0169 - accuracy: 0.9947 - val_loss: 0.0432 - val_accuracy: 0.9877\n",
            "Epoch 6/20\n",
            "375/375 [==============================] - 54s 143ms/step - loss: 0.0116 - accuracy: 0.9962 - val_loss: 0.0481 - val_accuracy: 0.9883\n",
            "Epoch 7/20\n",
            "375/375 [==============================] - 54s 143ms/step - loss: 0.0097 - accuracy: 0.9970 - val_loss: 0.0514 - val_accuracy: 0.9883\n",
            "Epoch 8/20\n",
            "375/375 [==============================] - 54s 144ms/step - loss: 0.0077 - accuracy: 0.9976 - val_loss: 0.0554 - val_accuracy: 0.9866\n",
            "Epoch 9/20\n",
            "375/375 [==============================] - 54s 144ms/step - loss: 0.0070 - accuracy: 0.9976 - val_loss: 0.0664 - val_accuracy: 0.9838\n",
            "Epoch 10/20\n",
            "375/375 [==============================] - 54s 145ms/step - loss: 0.0072 - accuracy: 0.9975 - val_loss: 0.0477 - val_accuracy: 0.9884\n",
            "Epoch 11/20\n",
            "375/375 [==============================] - 54s 145ms/step - loss: 0.0044 - accuracy: 0.9987 - val_loss: 0.0609 - val_accuracy: 0.9872\n",
            "Epoch 12/20\n",
            "375/375 [==============================] - 56s 148ms/step - loss: 0.0063 - accuracy: 0.9980 - val_loss: 0.0653 - val_accuracy: 0.9870\n",
            "Epoch 13/20\n",
            "375/375 [==============================] - 56s 148ms/step - loss: 0.0041 - accuracy: 0.9988 - val_loss: 0.0589 - val_accuracy: 0.9871\n",
            "Epoch 14/20\n",
            "375/375 [==============================] - 55s 146ms/step - loss: 0.0047 - accuracy: 0.9983 - val_loss: 0.0583 - val_accuracy: 0.9882\n",
            "Epoch 15/20\n",
            "375/375 [==============================] - 54s 145ms/step - loss: 0.0040 - accuracy: 0.9988 - val_loss: 0.0528 - val_accuracy: 0.9894\n",
            "Epoch 16/20\n",
            "375/375 [==============================] - 54s 143ms/step - loss: 0.0018 - accuracy: 0.9995 - val_loss: 0.0555 - val_accuracy: 0.9891\n",
            "Epoch 17/20\n",
            "375/375 [==============================] - 54s 143ms/step - loss: 0.0043 - accuracy: 0.9987 - val_loss: 0.0579 - val_accuracy: 0.9882\n",
            "Epoch 18/20\n",
            "375/375 [==============================] - 54s 144ms/step - loss: 0.0024 - accuracy: 0.9992 - val_loss: 0.0562 - val_accuracy: 0.9891\n",
            "Epoch 19/20\n",
            "375/375 [==============================] - 54s 144ms/step - loss: 2.2034e-04 - accuracy: 1.0000 - val_loss: 0.0554 - val_accuracy: 0.9902\n",
            "Epoch 20/20\n",
            "375/375 [==============================] - 54s 144ms/step - loss: 4.0773e-05 - accuracy: 1.0000 - val_loss: 0.0563 - val_accuracy: 0.9906\n"
          ]
        }
      ]
    },
    {
      "cell_type": "markdown",
      "source": [
        "Plot the training performance:"
      ],
      "metadata": {
        "id": "M8XKLnVeoJwH"
      }
    },
    {
      "cell_type": "code",
      "source": [
        "#plot model history\n",
        "\n",
        "plot_model_history(x2)\n",
        "\n",
        "print(\"Model 2 took %0.2f seconds to train\"%(end - start))\n",
        "# compute test accuracy\n",
        "loss, accuracy= model2.evaluate(test_x, test_y)\n",
        "print(\"Accuracy on test data is: %0.2f\"%accuracy)"
      ],
      "metadata": {
        "id": "xD3y2AX7oMvU",
        "colab": {
          "base_uri": "https://localhost:8080/",
          "height": 474
        },
        "outputId": "a5e4eef8-b2c7-40b6-cdb3-77364ec97888"
      },
      "execution_count": null,
      "outputs": [
        {
          "output_type": "stream",
          "name": "stderr",
          "text": [
            "/usr/local/lib/python3.7/dist-packages/ipykernel_launcher.py:9: MatplotlibDeprecationWarning: Passing the minor parameter of set_xticks() positionally is deprecated since Matplotlib 3.2; the parameter will become keyword-only two minor releases later.\n",
            "  if __name__ == '__main__':\n",
            "/usr/local/lib/python3.7/dist-packages/ipykernel_launcher.py:17: MatplotlibDeprecationWarning: Passing the minor parameter of set_xticks() positionally is deprecated since Matplotlib 3.2; the parameter will become keyword-only two minor releases later.\n"
          ]
        },
        {
          "output_type": "display_data",
          "data": {
            "text/plain": [
              "<Figure size 1080x360 with 2 Axes>"
            ],
            "image/png": "[encoded data removed]"
          },
          "metadata": {
            "needs_background": "light"
          }
        },
        {
          "output_type": "stream",
          "name": "stdout",
          "text": [
            "Model 2 took 1088.74 seconds to train\n",
            "313/313 [==============================] - 4s 12ms/step - loss: 0.0450 - accuracy: 0.9918\n",
            "Accuracy on test data is: 0.99\n"
          ]
        }
      ]
    },
    {
      "cell_type": "markdown",
      "source": [
        "**Question 2:** What are the best learning rate, loss function, iteration number (epochs), and batch_size for this model?"
      ],
      "metadata": {
        "id": "jNU2DGBamkLd"
      }
    }
  ]
}
{
 "cells": [
  {
   "cell_type": "code",
   "execution_count": 1,
   "id": "23d1296d",
   "metadata": {},
   "outputs": [
    {
     "name": "stdout",
     "output_type": "stream",
     "text": [
      "c= 12\n"
     ]
    }
   ],
   "source": [
    "a=5\n",
    "b=7\n",
    "c=a+b\n",
    "print (\"c=\",c)"
   ]
  },
  {
   "cell_type": "code",
   "execution_count": 2,
   "id": "472fc26a",
   "metadata": {},
   "outputs": [
    {
     "name": "stdout",
     "output_type": "stream",
     "text": [
      "total= 5050\n"
     ]
    }
   ],
   "source": [
    "total=0\n",
    "for i in range(101):\n",
    "    total += i\n",
    "print (\"total=\", total)"
   ]
  },
  {
   "cell_type": "code",
   "execution_count": 4,
   "id": "59e75429",
   "metadata": {},
   "outputs": [
    {
     "name": "stdout",
     "output_type": "stream",
     "text": [
      "enter the n10\n",
      "total= 55\n"
     ]
    }
   ],
   "source": [
    "total=0\n",
    "n=input(\"enter the n\")\n",
    "for i in range(int(n)+1):\n",
    "    total += i\n",
    "print (\"total=\", total)"
   ]
  },
  {
   "cell_type": "code",
   "execution_count": 7,
   "id": "a03c0d6f",
   "metadata": {},
   "outputs": [
    {
     "name": "stdout",
     "output_type": "stream",
     "text": [
      "enter the n4\n",
      "s= 10.0\n"
     ]
    }
   ],
   "source": [
    "n=input(\"enter the n\")\n",
    "s= float(n)*(float(n)+1)/2\n",
    "print(\"s=\",s)"
   ]
  },
  {
   "cell_type": "code",
   "execution_count": null,
   "id": "4c9f740d",
   "metadata": {},
   "outputs": [],
   "source": []
  }
 ],
 "metadata": {
  "kernelspec": {
   "display_name": "Python 3",
   "language": "python",
   "name": "python3"
  },
  "language_info": {
   "codemirror_mode": {
    "name": "ipython",
    "version": 3
   },
   "file_extension": ".py",
   "mimetype": "text/x-python",
   "name": "python",
   "nbconvert_exporter": "python",
   "pygments_lexer": "ipython3",
   "version": "3.8.8"
  }
 },
 "nbformat": 4,
 "nbformat_minor": 5
}

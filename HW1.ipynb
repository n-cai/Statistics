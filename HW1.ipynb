{
  "cells": [
    {
      "cell_type": "markdown",
      "metadata": {
        "id": "view-in-github",
        "colab_type": "text"
      },
      "source": [
        "<a href=\"https://colab.research.google.com/github/n-cai/Statistics/blob/main/HW1.ipynb\" target=\"_parent\"><img src=\"https://colab.research.google.com/assets/colab-badge.svg\" alt=\"Open In Colab\"/></a>"
      ]
    },
    {
      "cell_type": "code",
      "execution_count": null,
      "id": "23d1296d",
      "metadata": {
        "id": "23d1296d",
        "outputId": "6536b26f-a778-434a-c29e-8a04f67bf992"
      },
      "outputs": [
        {
          "name": "stdout",
          "output_type": "stream",
          "text": [
            "c= 12\n"
          ]
        }
      ],
      "source": [
        "a=5\n",
        "b=7\n",
        "c=a+b\n",
        "print (\"c=\",c)"
      ]
    },
    {
      "cell_type": "code",
      "execution_count": null,
      "id": "472fc26a",
      "metadata": {
        "id": "472fc26a",
        "outputId": "42d2ca6a-05e1-441e-ea12-465051162068"
      },
      "outputs": [
        {
          "name": "stdout",
          "output_type": "stream",
          "text": [
            "total= 5050\n"
          ]
        }
      ],
      "source": [
        "total=0\n",
        "for i in range(101):\n",
        "    total += i\n",
        "print (\"total=\", total)"
      ]
    },
    {
      "cell_type": "code",
      "execution_count": null,
      "id": "59e75429",
      "metadata": {
        "id": "59e75429",
        "outputId": "860c2916-37f0-4e7a-8ae9-51ed51af1e43"
      },
      "outputs": [
        {
          "name": "stdout",
          "output_type": "stream",
          "text": [
            "enter the n10\n",
            "total= 55\n"
          ]
        }
      ],
      "source": [
        "total=0\n",
        "n=input(\"enter the n\")\n",
        "for i in range(int(n)+1):\n",
        "    total += i\n",
        "print (\"total=\", total)"
      ]
    },
    {
      "cell_type": "code",
      "execution_count": null,
      "id": "a03c0d6f",
      "metadata": {
        "id": "a03c0d6f",
        "outputId": "80fa1379-1f8b-4962-c10a-d131330b0ed5"
      },
      "outputs": [
        {
          "name": "stdout",
          "output_type": "stream",
          "text": [
            "enter the n4\n",
            "s= 10.0\n"
          ]
        }
      ],
      "source": [
        "n=input(\"enter the n\")\n",
        "s= float(n)*(float(n)+1)/2\n",
        "print(\"s=\",s)"
      ]
    },
    {
      "cell_type": "code",
      "execution_count": null,
      "id": "4c9f740d",
      "metadata": {
        "id": "4c9f740d"
      },
      "outputs": [],
      "source": []
    }
  ],
  "metadata": {
    "kernelspec": {
      "display_name": "Python 3",
      "language": "python",
      "name": "python3"
    },
    "language_info": {
      "codemirror_mode": {
        "name": "ipython",
        "version": 3
      },
      "file_extension": ".py",
      "mimetype": "text/x-python",
      "name": "python",
      "nbconvert_exporter": "python",
      "pygments_lexer": "ipython3",
      "version": "3.8.8"
    },
    "colab": {
      "provenance": [],
      "include_colab_link": true
    }
  },
  "nbformat": 4,
  "nbformat_minor": 5
}